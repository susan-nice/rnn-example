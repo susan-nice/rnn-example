{
 "metadata": {
  "name": "",
  "signature": "sha256:894713f2f9533fac2a303da563617d699a6f343cf52646ab6add04c78f40f35e"
 },
 "nbformat": 3,
 "nbformat_minor": 0,
 "worksheets": [
  {
   "cells": [
    {
     "cell_type": "code",
     "collapsed": false,
     "input": [
      "import theano\n",
      "import theano.tensor as T\n",
      "import numpy         as np\n",
      "from theano_toolkit import utils as U\n",
      "from theano_toolkit import updates"
     ],
     "language": "python",
     "metadata": {},
     "outputs": [
      {
       "output_type": "stream",
       "stream": "stdout",
       "text": [
        "Couldn't import dot_parser, loading of dot files will not be possible.\n"
       ]
      }
     ],
     "prompt_number": 1
    },
    {
     "cell_type": "code",
     "collapsed": false,
     "input": [
      "def build_rnn(hidden_inputs,W_hidden_hidden,b_hidden,initial_hidden):\n",
      "    def step(input_curr,hidden_prev):\n",
      "        hidden = T.tanh(\n",
      "                T.dot(hidden_prev,W_hidden_hidden) +\\\n",
      "                input_curr +\\\n",
      "                b_hidden\n",
      "            )\n",
      "        return hidden\n",
      "    hidden,_ = theano.scan(\n",
      "        step,\n",
      "        sequences = [hidden_inputs],\n",
      "        outputs_info = [initial_hidden]\n",
      "    )\n",
      "    return hidden\n",
      "\n",
      "\n",
      "\n",
      "def build_model(input_size,hidden_size,output_size):\n",
      "    X = T.matrix('X')\n",
      "    W_input_hidden  = U.create_shared(U.initial_weights(input_size,hidden_size))\n",
      "    W_hidden_hidden = U.create_shared(U.initial_weights(hidden_size,hidden_size))\n",
      "    W_hidden_output = U.create_shared(U.initial_weights(hidden_size,output_size))\n",
      "    b_hidden = U.create_shared(U.initial_weights(hidden_size))\n",
      "    i_hidden = U.create_shared(U.initial_weights(hidden_size))\n",
      "    b_output = U.create_shared(U.initial_weights(output_size))\n",
      "    \n",
      "    params = [W_input_hidden,W_hidden_hidden,W_hidden_output,b_hidden,i_hidden,b_output]\n",
      "    \n",
      "    hidden = build_rnn(T.dot(X,W_input_hidden),W_hidden_hidden,b_hidden,i_hidden)\n",
      "    \n",
      "    predict = T.nnet.softmax(T.dot(hidden,W_hidden_output) + b_output)\n",
      "    return X,predict,params"
     ],
     "language": "python",
     "metadata": {},
     "outputs": [],
     "prompt_number": 2
    },
    {
     "cell_type": "code",
     "collapsed": false,
     "input": [
      "def path_probs(predict,Y):\n",
      "\n",
      "    eye = T.eye(Y.shape[0])\n",
      "    first = eye[0]\n",
      "    mask0  = 1 - eye[0]\n",
      "    mask1  = 1 - eye[1]\n",
      "    alt_mask = T.cast(T.arange(Y.shape[0]) % 2,'float32')\n",
      "    skip_mask = mask0 * mask1 * alt_mask\n",
      "    prev_idx = T.arange(-1,Y.shape[0]-1)\n",
      "    prev_prev_idx = T.arange(-2,Y.shape[0]-2)\n",
      "    \n",
      "    def step(p_curr,p_prev):\n",
      "        p_next = p_curr *(\n",
      "                    p_prev +\\\n",
      "                    mask0 * p_prev[prev_idx] +\\\n",
      "                    skip_mask * p_prev[prev_prev_idx]\n",
      "                )\n",
      "        return p_next\n",
      "    \n",
      "    L = predict[:,Y]\n",
      "    f_probs,_ = theano.scan(step,sequences = [L],outputs_info = [first])\n",
      "    b_probs,_ = theano.scan(step,sequences = [L[::-1,::-1]],outputs_info = [first])\n",
      "    \n",
      "    probs = f_probs * b_probs[::-1,::-1] / predict[:,Y]\n",
      "    \n",
      "    return probs,prev_idx,prev_prev_idx\n",
      "\n",
      "def ctc_cost(predict,Y):\n",
      "    probs,prev_idx,prev_prev_idx  = path_probs(predict,Y)\n",
      "    \n",
      "    total_prob = T.sum(probs)\n",
      "    return -T.log(total_prob),probs,prev_idx,prev_prev_idx"
     ],
     "language": "python",
     "metadata": {},
     "outputs": [],
     "prompt_number": 70
    },
    {
     "cell_type": "code",
     "collapsed": false,
     "input": [
      "Y = T.ivector('Y')\n",
      "X,predict,params = build_model(10,10,10)\n",
      "cost,probs,prev_idx,prev_prev_idx = ctc_cost(predict,Y)\n",
      "\n",
      "# Differentiable\n",
      "grad = T.grad(cost,wrt=params)\n",
      "\n",
      "f = theano.function(\n",
      "        inputs = [X,Y],\n",
      "        outputs = [cost,probs,prev_idx,prev_prev_idx]\n",
      "    )\n",
      "\n",
      "c,p,prev_idx,prev_prev_idx = f(np.eye(11,dtype=np.float32)[:,:10],np.arange(10,dtype=np.int32))\n",
      "p,c"
     ],
     "language": "python",
     "metadata": {},
     "outputs": [
      {
       "metadata": {},
       "output_type": "pyout",
       "prompt_number": 71,
       "text": [
        "(array([[  5.00528010e-08,   3.00335046e-08,   0.00000000e+00,\n",
        "           0.00000000e+00,   0.00000000e+00,   0.00000000e+00,\n",
        "           0.00000000e+00,   0.00000000e+00,   0.00000000e+00,\n",
        "           0.00000000e+00],\n",
        "        [  2.00206003e-08,   2.57428123e-08,   1.71618169e-08,\n",
        "           9.23924848e-09,   0.00000000e+00,   0.00000000e+00,\n",
        "           0.00000000e+00,   0.00000000e+00,   0.00000000e+00,\n",
        "           0.00000000e+00],\n",
        "        [  7.15002724e-09,   1.48515138e-08,   2.37629809e-08,\n",
        "           1.84786835e-08,   4.61984717e-09,   2.09953077e-09,\n",
        "           0.00000000e+00,   0.00000000e+00,   0.00000000e+00,\n",
        "           0.00000000e+00],\n",
        "        [  2.19995044e-09,   6.60062272e-09,   1.98028651e-08,\n",
        "           2.09987085e-08,   1.25998785e-08,   7.55868879e-09,\n",
        "           8.39721293e-10,   2.79924028e-10,   0.00000000e+00,\n",
        "           0.00000000e+00],\n",
        "        [  5.49973289e-10,   2.25019581e-09,   1.20019692e-08,\n",
        "           1.67991363e-08,   1.89002591e-08,   1.46981796e-08,\n",
        "           3.91891364e-09,   1.67960656e-09,   6.99862390e-11,\n",
        "           9.99893484e-12],\n",
        "        [  9.99925073e-11,   5.40042899e-10,   5.40099165e-09,\n",
        "           9.79959314e-09,   1.96007299e-08,   1.95985432e-08,\n",
        "           9.79781767e-09,   5.39893508e-09,   5.39905065e-10,\n",
        "           9.99901967e-11],\n",
        "        [  9.99898862e-12,   7.00050296e-11,   1.68034098e-09,\n",
        "           3.91987642e-09,   1.47008894e-08,   1.88995379e-08,\n",
        "           1.67971717e-08,   1.19980790e-08,   2.24965024e-09,\n",
        "           5.49950696e-10],\n",
        "        [  0.00000000e+00,   0.00000000e+00,   2.80062223e-10,\n",
        "           8.39981751e-10,   7.56063301e-09,   1.26003181e-08,\n",
        "           2.09976108e-08,   1.97975609e-08,   6.59911015e-09,\n",
        "           2.19982121e-09],\n",
        "        [  0.00000000e+00,   0.00000000e+00,   0.00000000e+00,\n",
        "           0.00000000e+00,   2.10022488e-09,   4.62034633e-09,\n",
        "           1.84789037e-08,   2.37579538e-08,   1.48483039e-08,\n",
        "           7.14947879e-09],\n",
        "        [  0.00000000e+00,   0.00000000e+00,   0.00000000e+00,\n",
        "           0.00000000e+00,   0.00000000e+00,   0.00000000e+00,\n",
        "           9.23995280e-09,   1.71591594e-08,   2.57375934e-08,\n",
        "           2.00187102e-08],\n",
        "        [  0.00000000e+00,   0.00000000e+00,   0.00000000e+00,\n",
        "           0.00000000e+00,   0.00000000e+00,   0.00000000e+00,\n",
        "           0.00000000e+00,   0.00000000e+00,   3.00278096e-08,\n",
        "           5.00472019e-08]], dtype=float32),\n",
        " array(14.037673950195312, dtype=float32))"
       ]
      }
     ],
     "prompt_number": 71
    }
   ],
   "metadata": {}
  }
 ]
}